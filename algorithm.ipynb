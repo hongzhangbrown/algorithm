{
 "cells": [
  {
   "cell_type": "markdown",
   "metadata": {},
   "source": [
    "Chp.6 Given a array of integer, reorder the list so that the even items appears first.\n",
    "E.g. [1,4,5,6,7,8] --> [4,6,8,1,5,7]\n",
    "    P.S. without extra memory\n"
   ]
  },
  {
   "cell_type": "code",
   "execution_count": 1,
   "metadata": {},
   "outputs": [
    {
     "name": "stdout",
     "output_type": "stream",
     "text": [
      "[4, 6, 8, 1, 7, 5]\n"
     ]
    }
   ],
   "source": [
    "def reorder(A):\n",
    "    inx_l = 0\n",
    "    inx_r = 0\n",
    "    l = len(A)\n",
    "    if l == 0:\n",
    "        return A\n",
    "    else:\n",
    "        while inx_r < l:\n",
    "            if A[inx_r] %2 ==0:\n",
    "                A[inx_l],A[inx_r] = A[inx_r],A[inx_l]\n",
    "                inx_l += 1\n",
    "            inx_r += 1\n",
    "        return A\n",
    "A = [1,4,5,6,7,8]\n",
    "print(reorder(A))\n",
    "#this method does not keep the relative order inside odd numbers "
   ]
  },
  {
   "cell_type": "markdown",
   "metadata": {},
   "source": [
    "6.1 Dutch national flag problem: Given an array and an index i, so that the elements less than A[i] appear first, then the elment equals A[i], and finally the elements greater than A[i]\n",
    "A = [1,1,1,3,4,5,5,6,6,3,4,2] i = 3 --> A = [1,1,1,2,3,3,4,4,5,5,6,6]"
   ]
  },
  {
   "cell_type": "code",
   "execution_count": 13,
   "metadata": {},
   "outputs": [
    {
     "name": "stdout",
     "output_type": "stream",
     "text": [
      "[1, 1, 1, 2, 3, 3, 6, 6, 5, 4, 5, 4]\n"
     ]
    }
   ],
   "source": [
    "def func(A,i):\n",
    "    pivot = A[i]\n",
    "    inx_l = 0\n",
    "    inx_r = len(A) - 1\n",
    "    index = 0\n",
    "    while index <= inx_r:\n",
    "#         print(A[index],index)\n",
    "        if A[index] < pivot:\n",
    "            A[index], A[inx_l] = A[inx_l], A[index]\n",
    "            inx_l += 1\n",
    "            index +=1\n",
    "#             print(inx_l,'left',A[index])\n",
    "        elif A[index] > pivot:\n",
    "            A[index], A[inx_r] = A[inx_r], A[index]\n",
    "            inx_r -= 1\n",
    "        else:\n",
    "            index +=1\n",
    "    return A\n",
    "A = [1,1,1,3,4,5,5,6,6,3,4,2] \n",
    "i = 3\n",
    "print(func(A,i))"
   ]
  },
  {
   "cell_type": "markdown",
   "metadata": {},
   "source": [
    "6.3 advance through an array: given an array A =[3,3,1,0,2,0,1], the ith entry represents the maximum one can advance from i. Return whether it is possible to advance to teh last index.\n",
    "eg. A = [3,2,0,0,2,0,1] is false"
   ]
  },
  {
   "cell_type": "code",
   "execution_count": 15,
   "metadata": {},
   "outputs": [
    {
     "name": "stdout",
     "output_type": "stream",
     "text": [
      "True\n"
     ]
    }
   ],
   "source": [
    "def func(A):\n",
    "    index = 0\n",
    "    cur_max = 0\n",
    "    while index < len(A):\n",
    "        if index > cur_max:\n",
    "            return False\n",
    "        temp = A[index] + index\n",
    "        if temp > cur_max:\n",
    "            cur_max = temp\n",
    "        index += 1\n",
    "    return True\n",
    "A = [3,2,0,0,2,0,1]\n",
    "A2 = [3,3,1,0,2,0,1]\n",
    "print(func(A2))"
   ]
  },
  {
   "cell_type": "markdown",
   "metadata": {},
   "source": [
    "variance of 6.3 minimum number to advance to the end"
   ]
  },
  {
   "cell_type": "code",
   "execution_count": 1,
   "metadata": {},
   "outputs": [
    {
     "name": "stdout",
     "output_type": "stream",
     "text": [
      "3\n"
     ]
    }
   ],
   "source": [
    "def jump(A):\n",
    "    cur_max = 0\n",
    "    temp_max = 0\n",
    "    step = 0\n",
    "    for i in range(len(A)):\n",
    "        if i > cur_max:\n",
    "            cur_max = temp_max\n",
    "            step += 1\n",
    "        if cur_max >= len(A)-1:\n",
    "            return step\n",
    "        temp_max = max(temp_max,i+A[i])\n",
    "A = [3,3,1,0,2,0,1]\n",
    "print(jump(A))"
   ]
  },
  {
   "cell_type": "markdown",
   "metadata": {
    "collapsed": true
   },
   "source": [
    "6.5 remove duplicates in a sorted array"
   ]
  },
  {
   "cell_type": "code",
   "execution_count": 3,
   "metadata": {},
   "outputs": [
    {
     "name": "stdout",
     "output_type": "stream",
     "text": [
      "[2, 3, 5, 7, 11, 13, 11, 11, 13]\n"
     ]
    }
   ],
   "source": [
    "def removeDuplicate(A):\n",
    "    #A is sorted. e.g. A = [1,1,2,2,3,3,4,4,4,5]\n",
    "    index = 0\n",
    "    for i in range(1,len(A)):\n",
    "        if A[i] != A[i-1]:\n",
    "            index += 1\n",
    "            A[index] = A[i]\n",
    "    return \n",
    "A = [2,3,5,5,7,11,11,11,13]\n",
    "removeDuplicate(A)\n",
    "print(A)"
   ]
  },
  {
   "cell_type": "markdown",
   "metadata": {},
   "source": [
    "6.6 Buy and sell stock once \n"
   ]
  },
  {
   "cell_type": "code",
   "execution_count": 8,
   "metadata": {},
   "outputs": [
    {
     "name": "stdout",
     "output_type": "stream",
     "text": [
      "30\n"
     ]
    }
   ],
   "source": [
    "def buyAndSell(S):\n",
    "    run_min = float('inf')\n",
    "    run_max = float('inf')*-1\n",
    "    for i in range(len(S)):\n",
    "#         print(run_min)\n",
    "        if S[i] < run_min:\n",
    "            run_min = S[i]\n",
    "        else:\n",
    "            run_max = max(run_max, S[i]-run_min)\n",
    "    return run_max\n",
    "S = [310,315,275,295,260,270,290,230,255,250]\n",
    "print(buyAndSell(S))"
   ]
  },
  {
   "cell_type": "markdown",
   "metadata": {},
   "source": [
    "6.7 Buy and sell stock twice"
   ]
  },
  {
   "cell_type": "code",
   "execution_count": 12,
   "metadata": {},
   "outputs": [
    {
     "name": "stdout",
     "output_type": "stream",
     "text": [
      "2 7\n",
      "3 7\n",
      "6 2\n",
      "6 2\n",
      "7 -inf\n",
      "10\n"
     ]
    }
   ],
   "source": [
    "def buySellTwice(S):\n",
    "    run_min = float('inf')\n",
    "    run_max = float('inf')*-1\n",
    "    max_profit = float('inf')*-1\n",
    "    for i in range(len(S)):\n",
    "#         print(run_min)\n",
    "        if S[i] < run_min:\n",
    "            run_min = S[i]\n",
    "        else:\n",
    "            run_max = max(run_max, S[i]-run_min)\n",
    "#             print(run_max,buyAndSell(S[i:]))\n",
    "            max_profit = max(max_profit, run_max + buyAndSell(S[i:]))\n",
    "    return max_profit\n",
    "S = [12,11,13,9,12,8,14,13,15]\n",
    "print(buySellTwice(S))"
   ]
  },
  {
   "cell_type": "markdown",
   "metadata": {},
   "source": [
    "6.9 Permute the element of an array: given an array and a permutaiton. rearrange the array following the permutation\n",
    "e.g. P = [2,0,1,3], A = [a,b,c,d] -> A = [c,a,b,d]"
   ]
  },
  {
   "cell_type": "code",
   "execution_count": 19,
   "metadata": {},
   "outputs": [
    {
     "name": "stdout",
     "output_type": "stream",
     "text": [
      "['c', 'a', 'b', 'd']\n"
     ]
    }
   ],
   "source": [
    "def func(P,A):\n",
    "    l = len(A)\n",
    "    index = 0\n",
    "    while index < l:\n",
    "#         print(index,'index')\n",
    "        if P[index] < 0:\n",
    "            index += 1\n",
    "            continue\n",
    "        else:\n",
    "            temp = A[index]\n",
    "            cur_pos = index\n",
    "            while  P[cur_pos] != index:\n",
    "#                 print('cur',cur_pos,A,P)\n",
    "                next_pos = P[cur_pos]\n",
    "                A[cur_pos] = A[next_pos]\n",
    "                P[cur_pos] = P[cur_pos] - l\n",
    "                cur_pos = next_pos\n",
    "            \n",
    "            A[cur_pos] = temp\n",
    "            P[cur_pos] -= l\n",
    "#             print('after inner loop',A,P,index)\n",
    "            index += 1\n",
    "    return A\n",
    "P = [2,0,1,3]\n",
    "A = ['a','b','c','d']\n",
    "print(func(P,A))"
   ]
  },
  {
   "cell_type": "markdown",
   "metadata": {},
   "source": [
    "6.10 next permutation"
   ]
  },
  {
   "cell_type": "code",
   "execution_count": 20,
   "metadata": {
    "collapsed": true
   },
   "outputs": [],
   "source": [
    "def nextPermutation(self, nums):\n",
    "        \"\"\"\n",
    "        :type nums: List[int]\n",
    "        :rtype: void Do not return anything, modify nums in-place instead.\n",
    "        \"\"\"\n",
    "        l = len(nums)\n",
    "        if l <= 1:\n",
    "            return \n",
    "        for i in range(l-1,0,-1):\n",
    "            if nums[i] <= nums[i-1]:\n",
    "                continue\n",
    "            else:\n",
    "                break\n",
    "        if i == 1 and nums[0] > nums[1]:\n",
    "            left = i-1\n",
    "            right = l-1\n",
    "            while left<right:\n",
    "                nums[left],nums[right] = nums[right],nums[left]\n",
    "                left += 1\n",
    "                right -= 1\n",
    "        else:\n",
    "            temp = nums[i-1]\n",
    "            for j in range(i,l):\n",
    "                if temp < nums[j]:\n",
    "                    continue\n",
    "                else:#temp>=nums[j]\n",
    "                    break\n",
    "            if nums[j] > temp:\n",
    "                nums[i-1],nums[j] = nums[j],nums[i-1]\n",
    "            else:    \n",
    "                nums[i-1], nums[j-1] = nums[j-1],nums[i-1]\n",
    "            left = i\n",
    "            right = l-1\n",
    "            while left<right:\n",
    "                nums[left],nums[right] = nums[right],nums[left]\n",
    "                left += 1\n",
    "                right -= 1"
   ]
  },
  {
   "cell_type": "markdown",
   "metadata": {},
   "source": [
    "binary search\n",
    "1. find if the element exists\n",
    "2. find the floor\n"
   ]
  },
  {
   "cell_type": "code",
   "execution_count": null,
   "metadata": {
    "collapsed": true
   },
   "outputs": [],
   "source": [
    "def ifExists(A,target):\n",
    "    left = 0\n",
    "    right = len(A)-1\n",
    "    while left <= right:\n",
    "        mid = left + (right-left)//2\n",
    "        if A[mid] == target:\n",
    "            return True\n",
    "        elif A[mid] > target:\n",
    "            right = mid-1\n",
    "        else:\n",
    "            left = mid + 1\n",
    "    return False\n",
    "A = [0,1,4,4,5,6]\n",
    "target = 1\n",
    "print(ifExists(A,target))\n",
    "        \n",
    "    \n"
   ]
  },
  {
   "cell_type": "code",
   "execution_count": 37,
   "metadata": {},
   "outputs": [
    {
     "name": "stdout",
     "output_type": "stream",
     "text": [
      "2\n"
     ]
    }
   ],
   "source": [
    "def floor(A,target):\n",
    "    left = 0\n",
    "    right = len(A)-1\n",
    "    while left <= right:\n",
    "        mid = left + (right-left)//2\n",
    "#         print(mid)\n",
    "        if A[mid] == target:\n",
    "            if mid >0 and A[mid-1] < target:\n",
    "                return A[mid-1]\n",
    "            elif mid == 0:\n",
    "                return A[mid]\n",
    "        elif A[mid] > target:\n",
    "            right = mid-1\n",
    "        else:\n",
    "            if mid == len(A)-1:\n",
    "                return A[-1]\n",
    "            else:\n",
    "                if A[mid + 1] >target:\n",
    "                    return A[mid]\n",
    "                else:\n",
    "                    left = mid+1\n",
    "A = [0,2]\n",
    "target = 5\n",
    "print(floor(A,target))"
   ]
  },
  {
   "cell_type": "markdown",
   "metadata": {
    "collapsed": true
   },
   "source": [
    "Compute sqrt(x)"
   ]
  },
  {
   "cell_type": "code",
   "execution_count": 17,
   "metadata": {},
   "outputs": [
    {
     "data": {
      "text/plain": [
       "1.414215087890625"
      ]
     },
     "execution_count": 17,
     "metadata": {},
     "output_type": "execute_result"
    }
   ],
   "source": [
    "def sqrt(x):\n",
    "    x_old=x\n",
    "    eps = 1.0\n",
    "    while eps > 1e-7:\n",
    "        x_new = x_old - (x_old**2-x)*1.0/(2*x_old)\n",
    "        eps = abs(x_old-x_new)\n",
    "        x_old = x_new\n",
    "        \n",
    "    return x_old\n",
    "\n",
    "def sqrt_binary(x):\n",
    "    left = 0\n",
    "    right = x\n",
    "    eps = 1\n",
    "    while eps > 1e-5:\n",
    "        mid = left + (right-left)/2\n",
    "        if mid*mid > x:\n",
    "            right = mid\n",
    "        elif mid*mid == x:\n",
    "            return mid\n",
    "        else:\n",
    "            left = mid\n",
    "        eps = abs(right-left)\n",
    "    return right\n",
    "sqrt_binary(2)"
   ]
  },
  {
   "cell_type": "markdown",
   "metadata": {},
   "source": [
    "pow(x,n)\n"
   ]
  },
  {
   "cell_type": "code",
   "execution_count": 23,
   "metadata": {},
   "outputs": [
    {
     "data": {
      "text/plain": [
       "6.400000000000002e-05"
      ]
     },
     "execution_count": 23,
     "metadata": {},
     "output_type": "execute_result"
    }
   ],
   "source": [
    "def pow(x,n):\n",
    "    if n == 0:\n",
    "        return 1\n",
    "    elif n < 0:\n",
    "        x = 1/x\n",
    "    elif n == 1:\n",
    "        return x\n",
    "    temp = x\n",
    "    while n>=2:\n",
    "        if n%2 == 0 :\n",
    "            temp = temp**2\n",
    "            n = n//2\n",
    "        else:\n",
    "            temp = temp**2*x\n",
    "            n = n//2\n",
    "    return temp\n",
    "pow(.2,5)\n",
    "        "
   ]
  },
  {
   "cell_type": "markdown",
   "metadata": {},
   "source": [
    "# given a matrix \n",
    "\n",
    "\n",
    "a,b,c,d,e,f,g\n",
    "\n",
    "h,i,j,k,l,m,n\n",
    "\n",
    "o,p,q,r,s,t,u\n",
    "\n",
    "\n",
    "\n",
    "# output\n",
    "\n",
    "a,i,q\n",
    "\n",
    "b,j,r,\n",
    "\n",
    "c,k,s,\n",
    "\n",
    "d,l,t,\n",
    "\n",
    "e,m,u\n",
    "\n",
    "f,n,\n",
    "\n",
    "g\n",
    "\n",
    "h,p\n",
    "\n",
    "o\n",
    "\n"
   ]
  },
  {
   "cell_type": "code",
   "execution_count": 35,
   "metadata": {
    "collapsed": true
   },
   "outputs": [],
   "source": [
    "def printout(M):\n",
    "    r = len(M)\n",
    "    c = len(M[0])\n",
    "    res = []\n",
    "    for col in range(c):\n",
    "        for row in range(r):\n",
    "            if col+row < c:\n",
    "                res.append(M[row][row+col])\n",
    "            else:\n",
    "#                 res.append('\\n')\n",
    "                break\n",
    "        res.append('\\n')\n",
    "    for row in range(1,r):\n",
    "        for col in range(0,c):\n",
    "            if row + col < r:\n",
    "                res.append(M[row+col][col])\n",
    "            else:\n",
    "                res.append('\\n')\n",
    "                break\n",
    "\n",
    "    return res\n",
    "M = [['a','b','c','d','e','f','g'],\n",
    "\n",
    "['h','i','j','k','l','m','n'],\n",
    "\n",
    "['o','p','q','r','s','t','u'],]"
   ]
  },
  {
   "cell_type": "markdown",
   "metadata": {},
   "source": [
    "Generate all permutation"
   ]
  },
  {
   "cell_type": "code",
   "execution_count": 45,
   "metadata": {},
   "outputs": [
    {
     "name": "stdout",
     "output_type": "stream",
     "text": [
      "[[1, 1, 2, 3], [1, 1, 3, 2], [1, 2, 1, 3], [1, 2, 3, 1], [1, 3, 1, 2], [1, 3, 2, 1], [2, 1, 1, 3], [2, 1, 3, 1], [2, 3, 1, 1], [3, 1, 1, 2], [3, 1, 2, 1], [3, 2, 1, 1]]\n"
     ]
    }
   ],
   "source": [
    "def generate_permutations(A):\n",
    "    #A is an array\n",
    "    A.sort()\n",
    "    def helper(cur,pos,res):\n",
    "        if len(cur) == len(pos):\n",
    "            res.append(cur[:])\n",
    "            return\n",
    "        for i in range(len(pos)):\n",
    "            if pos[i] == 1 :\n",
    "                continue\n",
    "            elif i > 0 and A[i] == A[i-1] and pos[i-1] == 0:\n",
    "                continue\n",
    "            else:\n",
    "                cur.append(A[i])\n",
    "                pos[i] = 1\n",
    "                helper(cur,pos,res)\n",
    "                cur.pop()\n",
    "                pos[i] = 0\n",
    "    \n",
    "    cur = []\n",
    "    pos = [0]*len(A)\n",
    "    res = []\n",
    "    helper(cur,pos,res)\n",
    "    \n",
    "    print(res)\n",
    "    return \n",
    "\n",
    "A = [1,2,3,1]\n",
    "generate_permutations(A)\n",
    "            \n",
    "            \n",
    "        \n",
    "    "
   ]
  },
  {
   "cell_type": "markdown",
   "metadata": {},
   "source": [
    "generate subset of A set\n"
   ]
  },
  {
   "cell_type": "code",
   "execution_count": 52,
   "metadata": {},
   "outputs": [
    {
     "name": "stdout",
     "output_type": "stream",
     "text": [
      "[[], [1], [1, 2], [1, 2, 2], [2], [2, 2]]\n"
     ]
    }
   ],
   "source": [
    "def generate_set(A):\n",
    "    A.sort()\n",
    "    def helper(res,cur,pos):\n",
    "        res.append(cur[:])\n",
    "        for i in range(pos,len(A)):\n",
    "#             if A[i] in cur:\n",
    "#                 continue\n",
    "#             else:\n",
    "            if i > pos and A[i] == A[i-1]:\n",
    "                 continue\n",
    "            cur.append(A[i])\n",
    "            helper(res,cur,i+1)\n",
    "            cur.pop()\n",
    "    cur = []\n",
    "    res = []\n",
    "    helper(res,cur,0)\n",
    "    print(res)\n",
    "    return\n",
    "\n",
    "A = [1,2,2]\n",
    "generate_set(A)"
   ]
  },
  {
   "cell_type": "code",
   "execution_count": null,
   "metadata": {
    "collapsed": true
   },
   "outputs": [],
   "source": []
  }
 ],
 "metadata": {
  "kernelspec": {
   "display_name": "Python 3",
   "language": "python",
   "name": "python3"
  },
  "language_info": {
   "codemirror_mode": {
    "name": "ipython",
    "version": 3
   },
   "file_extension": ".py",
   "mimetype": "text/x-python",
   "name": "python",
   "nbconvert_exporter": "python",
   "pygments_lexer": "ipython3",
   "version": "3.6.3"
  }
 },
 "nbformat": 4,
 "nbformat_minor": 2
}
