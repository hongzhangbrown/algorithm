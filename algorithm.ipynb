{
 "cells": [
  {
   "cell_type": "markdown",
   "metadata": {},
   "source": [
    "Chp.6 Given a array of integer, reorder the list so that the even items appears first.\n",
    "E.g. [1,4,5,6,7,8] --> [4,6,8,1,5,7]\n",
    "    P.S. without extra memory\n"
   ]
  },
  {
   "cell_type": "code",
   "execution_count": 1,
   "metadata": {},
   "outputs": [
    {
     "name": "stdout",
     "output_type": "stream",
     "text": [
      "[4, 6, 8, 1, 7, 5]\n"
     ]
    }
   ],
   "source": [
    "def reorder(A):\n",
    "    inx_l = 0\n",
    "    inx_r = 0\n",
    "    l = len(A)\n",
    "    if l == 0:\n",
    "        return A\n",
    "    else:\n",
    "        while inx_r < l:\n",
    "            if A[inx_r] %2 ==0:\n",
    "                A[inx_l],A[inx_r] = A[inx_r],A[inx_l]\n",
    "                inx_l += 1\n",
    "            inx_r += 1\n",
    "        return A\n",
    "A = [1,4,5,6,7,8]\n",
    "print(reorder(A))\n",
    "#this method does not keep the relative order inside odd numbers "
   ]
  },
  {
   "cell_type": "markdown",
   "metadata": {},
   "source": [
    "6.1 Dutch national flag problem: Given an array and an index i, so that the elements less than A[i] appear first, then the elment equals A[i], and finally the elements greater than A[i]\n",
    "A = [1,1,1,3,4,5,5,6,6,3,4,2] i = 3 --> A = [1,1,1,2,3,3,4,4,5,5,6,6]"
   ]
  },
  {
   "cell_type": "code",
   "execution_count": 13,
   "metadata": {},
   "outputs": [
    {
     "name": "stdout",
     "output_type": "stream",
     "text": [
      "[1, 1, 1, 2, 3, 3, 6, 6, 5, 4, 5, 4]\n"
     ]
    }
   ],
   "source": [
    "def func(A,i):\n",
    "    pivot = A[i]\n",
    "    inx_l = 0\n",
    "    inx_r = len(A) - 1\n",
    "    index = 0\n",
    "    while index <= inx_r:\n",
    "#         print(A[index],index)\n",
    "        if A[index] < pivot:\n",
    "            A[index], A[inx_l] = A[inx_l], A[index]\n",
    "            inx_l += 1\n",
    "            index +=1\n",
    "#             print(inx_l,'left',A[index])\n",
    "        elif A[index] > pivot:\n",
    "            A[index], A[inx_r] = A[inx_r], A[index]\n",
    "            inx_r -= 1\n",
    "        else:\n",
    "            index +=1\n",
    "    return A\n",
    "A = [1,1,1,3,4,5,5,6,6,3,4,2] \n",
    "i = 3\n",
    "print(func(A,i))"
   ]
  },
  {
   "cell_type": "markdown",
   "metadata": {},
   "source": [
    "6.3 advance through an array: given an array A =[3,3,1,0,2,0,1], the ith entry represents the maximum one can advance from i. Return whether it is possible to advance to teh last index.\n",
    "eg. A = [3,2,0,0,2,0,1] is false"
   ]
  },
  {
   "cell_type": "code",
   "execution_count": 15,
   "metadata": {},
   "outputs": [
    {
     "name": "stdout",
     "output_type": "stream",
     "text": [
      "True\n"
     ]
    }
   ],
   "source": [
    "def func(A):\n",
    "    index = 0\n",
    "    cur_max = 0\n",
    "    while index < len(A):\n",
    "        if index > cur_max:\n",
    "            return False\n",
    "        temp = A[index] + index\n",
    "        if temp > cur_max:\n",
    "            cur_max = temp\n",
    "        index += 1\n",
    "    return True\n",
    "A = [3,2,0,0,2,0,1]\n",
    "A2 = [3,3,1,0,2,0,1]\n",
    "print(func(A2))"
   ]
  },
  {
   "cell_type": "markdown",
   "metadata": {},
   "source": [
    "variance of 6.3 minimum number to advance to the end"
   ]
  },
  {
   "cell_type": "code",
   "execution_count": 1,
   "metadata": {},
   "outputs": [
    {
     "name": "stdout",
     "output_type": "stream",
     "text": [
      "3\n"
     ]
    }
   ],
   "source": [
    "def jump(A):\n",
    "    cur_max = 0\n",
    "    temp_max = 0\n",
    "    step = 0\n",
    "    for i in range(len(A)):\n",
    "        if i > cur_max:\n",
    "            cur_max = temp_max\n",
    "            step += 1\n",
    "        if cur_max >= len(A)-1:\n",
    "            return step\n",
    "        temp_max = max(temp_max,i+A[i])\n",
    "A = [3,3,1,0,2,0,1]\n",
    "print(jump(A))"
   ]
  },
  {
   "cell_type": "code",
   "execution_count": null,
   "metadata": {
    "collapsed": true
   },
   "outputs": [],
   "source": []
  }
 ],
 "metadata": {
  "kernelspec": {
   "display_name": "Python 3",
   "language": "python",
   "name": "python3"
  },
  "language_info": {
   "codemirror_mode": {
    "name": "ipython",
    "version": 3
   },
   "file_extension": ".py",
   "mimetype": "text/x-python",
   "name": "python",
   "nbconvert_exporter": "python",
   "pygments_lexer": "ipython3",
   "version": "3.6.3"
  }
 },
 "nbformat": 4,
 "nbformat_minor": 2
}
